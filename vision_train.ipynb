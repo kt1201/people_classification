{
  "nbformat": 4,
  "nbformat_minor": 0,
  "metadata": {
    "colab": {
      "name": "vision_train.ipynb",
      "provenance": [],
      "collapsed_sections": [],
      "machine_shape": "hm"
    },
    "kernelspec": {
      "name": "python3",
      "display_name": "Python 3"
    },
    "accelerator": "GPU"
  },
  "cells": [
    {
      "cell_type": "code",
      "metadata": {
        "id": "k_n9oXT2aeu5",
        "colab_type": "code",
        "colab": {}
      },
      "source": [
        "import pandas as pd\n",
        "from PIL import Image\n",
        "import numpy as np\n",
        "import torch\n",
        "from torch.autograd import Variable\n",
        "import torch.nn as nn\n",
        "import torch.nn.functional as F\n",
        "import torch.optim as optim\n",
        "from torch.utils.data import DataLoader, TensorDataset\n",
        "from sklearn import datasets, model_selection"
      ],
      "execution_count": 0,
      "outputs": []
    },
    {
      "cell_type": "code",
      "metadata": {
        "id": "5aIdjCwxdsmv",
        "colab_type": "code",
        "outputId": "a691ce2d-5001-4dd5-95fb-e755d73c9319",
        "colab": {
          "base_uri": "https://localhost:8080/",
          "height": 127
        }
      },
      "source": [
        "from google.colab import drive\n",
        "\n",
        "drive.mount('/content/gdrive')"
      ],
      "execution_count": 3,
      "outputs": [
        {
          "output_type": "stream",
          "text": [
            "Go to this URL in a browser: https://accounts.google.com/o/oauth2/auth?client_id=947318989803-6bn6qk8qdgf4n4g3pfee6491hc0brc4i.apps.googleusercontent.com&redirect_uri=urn%3aietf%3awg%3aoauth%3a2.0%3aoob&response_type=code&scope=email%20https%3a%2f%2fwww.googleapis.com%2fauth%2fdocs.test%20https%3a%2f%2fwww.googleapis.com%2fauth%2fdrive%20https%3a%2f%2fwww.googleapis.com%2fauth%2fdrive.photos.readonly%20https%3a%2f%2fwww.googleapis.com%2fauth%2fpeopleapi.readonly\n",
            "\n",
            "Enter your authorization code:\n",
            "··········\n",
            "Mounted at /content/gdrive\n"
          ],
          "name": "stdout"
        }
      ]
    },
    {
      "cell_type": "code",
      "metadata": {
        "id": "zQaPQJkUeIFQ",
        "colab_type": "code",
        "outputId": "0e3d9706-6a80-462a-900d-f236c989c8f6",
        "colab": {
          "base_uri": "https://localhost:8080/",
          "height": 35
        }
      },
      "source": [
        "%cd 'gdrive/My Drive'"
      ],
      "execution_count": 4,
      "outputs": [
        {
          "output_type": "stream",
          "text": [
            "/content/gdrive/My Drive\n"
          ],
          "name": "stdout"
        }
      ]
    },
    {
      "cell_type": "code",
      "metadata": {
        "id": "MfQEQOBReOld",
        "colab_type": "code",
        "outputId": "22d86e47-1454-48cf-8ba3-5849bee3f940",
        "colab": {
          "base_uri": "https://localhost:8080/",
          "height": 89
        }
      },
      "source": [
        "!ls"
      ],
      "execution_count": 5,
      "outputs": [
        {
          "output_type": "stream",
          "text": [
            " 3장\t\t    faces_images\t  simple_model.h5     trec\n",
            "'Colab Notebooks'   __MACOSX\t\t  simple_weights.h5\n",
            " data\t\t    output.csv\t\t  somedummyfile\n",
            " dataset\t    pytlesson_notebooks   test_vision.csv\n"
          ],
          "name": "stdout"
        }
      ]
    },
    {
      "cell_type": "code",
      "metadata": {
        "id": "uXlOKOVCR9w4",
        "colab_type": "code",
        "colab": {}
      },
      "source": [
        "data_filenames = pd.read_csv('dataset/train_vision.csv')"
      ],
      "execution_count": 0,
      "outputs": []
    },
    {
      "cell_type": "code",
      "metadata": {
        "id": "uIbQhI3eSCYn",
        "colab_type": "code",
        "outputId": "d1eb4235-e4c7-4346-b5a1-04e4b5952ee8",
        "colab": {
          "base_uri": "https://localhost:8080/",
          "height": 233
        }
      },
      "source": [
        "data_filenames['filename']"
      ],
      "execution_count": 7,
      "outputs": [
        {
          "output_type": "execute_result",
          "data": {
            "text/plain": [
              "0       face_3267.png\n",
              "1        face_587.png\n",
              "2       face_6585.png\n",
              "3       face_3094.png\n",
              "4       face_1170.png\n",
              "            ...      \n",
              "5845     face_692.png\n",
              "5846    face_5357.png\n",
              "5847    face_3280.png\n",
              "5848    face_6319.png\n",
              "5849    face_2912.png\n",
              "Name: filename, Length: 5850, dtype: object"
            ]
          },
          "metadata": {
            "tags": []
          },
          "execution_count": 7
        }
      ]
    },
    {
      "cell_type": "code",
      "metadata": {
        "id": "d8vca6HoV-kK",
        "colab_type": "code",
        "colab": {
          "base_uri": "https://localhost:8080/",
          "height": 233
        },
        "outputId": "ac8cb7e6-be5f-442b-b2f5-2e16addb8ea1"
      },
      "source": [
        "data_filenames['label'] - 1"
      ],
      "execution_count": 8,
      "outputs": [
        {
          "output_type": "execute_result",
          "data": {
            "text/plain": [
              "0       0\n",
              "1       3\n",
              "2       3\n",
              "3       3\n",
              "4       3\n",
              "       ..\n",
              "5845    3\n",
              "5846    3\n",
              "5847    0\n",
              "5848    3\n",
              "5849    0\n",
              "Name: label, Length: 5850, dtype: int64"
            ]
          },
          "metadata": {
            "tags": []
          },
          "execution_count": 8
        }
      ]
    },
    {
      "cell_type": "code",
      "metadata": {
        "id": "S8Rh_JSNpOp4",
        "colab_type": "code",
        "colab": {}
      },
      "source": [
        "data = [] # 설명변수\n",
        "label = [] # 목적변수\n",
        "\n",
        "for lbl, filename in zip(data_filenames['label'] - 1, data_filenames['filename']):\n",
        "  img = Image.open('faces_images/' + filename, 'r')\n",
        "  r, g, b = img.split()\n",
        "  # 채널별로 분리해서 [0,1] 구간으로 정규화\n",
        "  r_resize_img = np.asarray(np.float32(r)/255.0)\n",
        "  g_resize_img = np.asarray(np.float32(g)/255.0)\n",
        "  b_resize_img = np.asarray(np.float32(b)/255.0)\n",
        "  rgb_resize_img = np.asarray([r_resize_img, g_resize_img, b_resize_img])\n",
        "  # 가공된 이미지를 리스트에 추가\n",
        "  data.append(rgb_resize_img)\n",
        "  \n",
        "  # 이미지 레이블을 리스트에 추가\n",
        "  label.append(lbl)"
      ],
      "execution_count": 0,
      "outputs": []
    },
    {
      "cell_type": "code",
      "metadata": {
        "id": "mCIBEzJus-kX",
        "colab_type": "code",
        "outputId": "b8142b06-b19f-41ec-e198-daa7aa0bc0b1",
        "colab": {
          "base_uri": "https://localhost:8080/",
          "height": 35
        }
      },
      "source": [
        "# NumPy 배열로 변환\n",
        "data = np.array(data, dtype='float32')\n",
        "label = np.array(label, dtype='int64')\n",
        "print(data.shape)"
      ],
      "execution_count": 10,
      "outputs": [
        {
          "output_type": "stream",
          "text": [
            "(5850, 3, 128, 128)\n"
          ],
          "name": "stdout"
        }
      ]
    },
    {
      "cell_type": "code",
      "metadata": {
        "id": "7mk-gxbVvefv",
        "colab_type": "code",
        "outputId": "e5a429e8-e86f-48e0-8a23-914567d3ff54",
        "colab": {
          "base_uri": "https://localhost:8080/",
          "height": 53
        }
      },
      "source": [
        "# 데이터 집합을 훈련 데이터와 테스트 데이터로 분할\n",
        "train_X, validation_X, train_Y, validation_Y = model_selection.train_test_split(\n",
        "    data, label)\n",
        "\n",
        "# 데이터 건수를 확인\n",
        "print(len(train_X))\n",
        "print(len(validation_X))"
      ],
      "execution_count": 11,
      "outputs": [
        {
          "output_type": "stream",
          "text": [
            "4387\n",
            "1463\n"
          ],
          "name": "stdout"
        }
      ]
    },
    {
      "cell_type": "code",
      "metadata": {
        "id": "4MnXxo6BwmMx",
        "colab_type": "code",
        "outputId": "585bd56d-7960-480d-ff8a-7eda5e517a3c",
        "colab": {
          "base_uri": "https://localhost:8080/",
          "height": 53
        }
      },
      "source": [
        "# 훈련 데이터 텐서 변환\n",
        "train_X = torch.from_numpy(train_X).float()\n",
        "train_Y = torch.from_numpy(train_Y).long()\n",
        "\n",
        "# 텐서 크기를 화면에 출력\n",
        "print(train_X.shape)\n",
        "print(train_Y.shape)"
      ],
      "execution_count": 12,
      "outputs": [
        {
          "output_type": "stream",
          "text": [
            "torch.Size([4387, 3, 128, 128])\n",
            "torch.Size([4387])\n"
          ],
          "name": "stdout"
        }
      ]
    },
    {
      "cell_type": "code",
      "metadata": {
        "id": "R7pmOlk0xfLp",
        "colab_type": "code",
        "outputId": "fdc7e713-343b-444a-a567-6c82c7d6c358",
        "colab": {
          "base_uri": "https://localhost:8080/",
          "height": 431
        }
      },
      "source": [
        "# 설명변수와 목적변수 텐서를 합치기\n",
        "train = TensorDataset(train_X, train_Y)\n",
        "\n",
        "# 첫 번째 텐서의 내용을 화면에 출력\n",
        "print(train[0])\n",
        "# 미니배치로 분할하기\n",
        "train_loader = DataLoader(train, batch_size=32, shuffle=True)"
      ],
      "execution_count": 13,
      "outputs": [
        {
          "output_type": "stream",
          "text": [
            "(tensor([[[0.3255, 0.2902, 0.2824,  ..., 0.2431, 0.2471, 0.2588],\n",
            "         [0.3059, 0.2941, 0.2824,  ..., 0.2471, 0.2431, 0.2549],\n",
            "         [0.2941, 0.2902, 0.2863,  ..., 0.2510, 0.2471, 0.2510],\n",
            "         ...,\n",
            "         [0.2980, 0.2941, 0.2980,  ..., 0.2902, 0.2902, 0.2667],\n",
            "         [0.3020, 0.3020, 0.2980,  ..., 0.2392, 0.2824, 0.2824],\n",
            "         [0.3176, 0.3098, 0.3059,  ..., 0.1608, 0.1647, 0.1922]],\n",
            "\n",
            "        [[0.2431, 0.2196, 0.2118,  ..., 0.1922, 0.1922, 0.2000],\n",
            "         [0.2353, 0.2275, 0.2196,  ..., 0.1961, 0.1961, 0.1961],\n",
            "         [0.2235, 0.2235, 0.2196,  ..., 0.2000, 0.1961, 0.1961],\n",
            "         ...,\n",
            "         [0.2431, 0.2353, 0.2353,  ..., 0.2275, 0.2275, 0.2196],\n",
            "         [0.2431, 0.2392, 0.2392,  ..., 0.1804, 0.2157, 0.2235],\n",
            "         [0.2549, 0.2510, 0.2510,  ..., 0.1255, 0.1373, 0.1569]],\n",
            "\n",
            "        [[0.4510, 0.4314, 0.4314,  ..., 0.3922, 0.3922, 0.4000],\n",
            "         [0.4392, 0.4275, 0.4353,  ..., 0.3922, 0.3922, 0.3882],\n",
            "         [0.4392, 0.4392, 0.4314,  ..., 0.3922, 0.3922, 0.3882],\n",
            "         ...,\n",
            "         [0.4706, 0.4667, 0.4627,  ..., 0.4078, 0.4275, 0.4275],\n",
            "         [0.4745, 0.4706, 0.4588,  ..., 0.2627, 0.3451, 0.3882],\n",
            "         [0.4824, 0.4784, 0.4706,  ..., 0.1569, 0.1843, 0.2314]]]), tensor(0))\n"
          ],
          "name": "stdout"
        }
      ]
    },
    {
      "cell_type": "code",
      "metadata": {
        "id": "AFkkrdA7nuDs",
        "colab_type": "code",
        "colab": {}
      },
      "source": [
        "# 신경망 구성\n",
        "class Net(nn.Module):\n",
        "    def __init__(self):\n",
        "        super(Net, self).__init__()\n",
        "        # 합성곱층\n",
        "        self.conv1 = nn.Conv2d(3, 10, 5) # 입력 채널 수, 출력 채널 수, 필터 크기\n",
        "        self.conv2 = nn.Conv2d(10, 20, 5)\n",
        "\n",
        "        # 전결합층\n",
        "        self.fc1 = nn.Linear(20 * 29 * 29, 64) # 29=(((((128-5)+1)/2)-5)+1)/2\n",
        "        self.fc2 = nn.Linear(64, 6)\n",
        "    \n",
        "    def forward(self, x):\n",
        "        # 풀링층\n",
        "        x = F.max_pool2d(F.relu(self.conv1(x)), 2) # 풀링 영역 크기\n",
        "        x = F.max_pool2d(F.relu(self.conv2(x)), 2)\n",
        "        x = x.view(-1, 20 * 29 * 29) # 다른 차원으로부터 해당 값을 유추\n",
        "        x = F.relu(self.fc1(x))\n",
        "        x = F.dropout(x, training = self.training)\n",
        "        x = self.fc2(x)\n",
        "        return F.log_softmax(x, dim = 1)\n",
        "    \n",
        "# 인스턴스 생성\n",
        "model = Net()"
      ],
      "execution_count": 0,
      "outputs": []
    },
    {
      "cell_type": "code",
      "metadata": {
        "id": "nNktqKEchTCo",
        "colab_type": "code",
        "outputId": "6fdb075a-a035-4011-8b10-65249f7d5462",
        "colab": {
          "base_uri": "https://localhost:8080/",
          "height": 1000
        }
      },
      "source": [
        "# 오차함수 객체\n",
        "criterion = nn.CrossEntropyLoss()\n",
        "\n",
        "# 최적화를 담당할 객체\n",
        "optimizer = optim.Adam(model.parameters(), lr=0.001)\n",
        "\n",
        "# 학습 시작\n",
        "for epoch in range(100):\n",
        "    total_loss = 0\n",
        "    acc = 0\n",
        "    correct = 0\n",
        "    # 분할해 둔 데이터를 꺼내옴\n",
        "    for train_x, train_y in train_loader:\n",
        "        # 계산 그래프 구성\n",
        "        train_x, train_y = Variable(train_x), Variable(train_y)\n",
        "        # 경사 초기화\n",
        "        optimizer.zero_grad()\n",
        "        # 순전파 계산\n",
        "        output = model(train_x)\n",
        "        # 오차 계산\n",
        "        loss = criterion(output, train_y)\n",
        "        # 역전파 계산\n",
        "        loss.backward()\n",
        "        # 가중치 업데이트\n",
        "        optimizer.step()\n",
        "        # 누적 오차 계산\n",
        "        total_loss += loss.data\n",
        "    print(\"epoch: %d, loss: %.6f\" % (epoch+1,loss.data))\n",
        "\n",
        "print('Finished Training')"
      ],
      "execution_count": 17,
      "outputs": [
        {
          "output_type": "stream",
          "text": [
            "epoch: 1, loss: 1.695400\n",
            "epoch: 2, loss: 0.162587\n",
            "epoch: 3, loss: 0.370493\n",
            "epoch: 4, loss: 0.089663\n",
            "epoch: 5, loss: 0.566741\n",
            "epoch: 6, loss: 0.229720\n",
            "epoch: 7, loss: 0.314507\n",
            "epoch: 8, loss: 0.081805\n",
            "epoch: 9, loss: 0.071086\n",
            "epoch: 10, loss: 0.356867\n",
            "epoch: 11, loss: 0.446174\n",
            "epoch: 12, loss: 0.221624\n",
            "epoch: 13, loss: 0.609326\n",
            "epoch: 14, loss: 0.016373\n",
            "epoch: 15, loss: 0.075536\n",
            "epoch: 16, loss: 0.068914\n",
            "epoch: 17, loss: 0.000000\n",
            "epoch: 18, loss: 0.010495\n",
            "epoch: 19, loss: 0.048288\n",
            "epoch: 20, loss: 0.024637\n",
            "epoch: 21, loss: 0.000099\n",
            "epoch: 22, loss: 0.104535\n",
            "epoch: 23, loss: 0.000613\n",
            "epoch: 24, loss: 0.000835\n",
            "epoch: 25, loss: 0.020190\n",
            "epoch: 26, loss: 0.118072\n",
            "epoch: 27, loss: 0.150974\n",
            "epoch: 28, loss: 0.000002\n",
            "epoch: 29, loss: 0.000327\n",
            "epoch: 30, loss: 0.016115\n",
            "epoch: 31, loss: 0.012976\n",
            "epoch: 32, loss: 0.238380\n",
            "epoch: 33, loss: 0.022735\n",
            "epoch: 34, loss: 0.000248\n",
            "epoch: 35, loss: 0.004654\n",
            "epoch: 36, loss: 0.179551\n",
            "epoch: 37, loss: 0.000014\n",
            "epoch: 38, loss: 0.000001\n",
            "epoch: 39, loss: 0.001655\n",
            "epoch: 40, loss: 0.000061\n",
            "epoch: 41, loss: 0.000011\n",
            "epoch: 42, loss: 0.338233\n",
            "epoch: 43, loss: 0.013124\n",
            "epoch: 44, loss: 0.000074\n",
            "epoch: 45, loss: 0.000702\n",
            "epoch: 46, loss: 0.026728\n",
            "epoch: 47, loss: 0.000123\n",
            "epoch: 48, loss: 0.000011\n",
            "epoch: 49, loss: 0.000012\n",
            "epoch: 50, loss: 0.000003\n",
            "epoch: 51, loss: 0.000383\n",
            "epoch: 52, loss: 0.509037\n",
            "epoch: 53, loss: 0.002054\n",
            "epoch: 54, loss: 0.000480\n",
            "epoch: 55, loss: 0.006033\n",
            "epoch: 56, loss: 0.002046\n",
            "epoch: 57, loss: 0.080540\n",
            "epoch: 58, loss: 0.000649\n",
            "epoch: 59, loss: 0.001197\n",
            "epoch: 60, loss: 0.425848\n",
            "epoch: 61, loss: 0.388242\n",
            "epoch: 62, loss: 0.000000\n",
            "epoch: 63, loss: 0.000000\n",
            "epoch: 64, loss: 0.018172\n",
            "epoch: 65, loss: 0.000000\n",
            "epoch: 66, loss: 0.000000\n",
            "epoch: 67, loss: 0.166795\n",
            "epoch: 68, loss: 0.000001\n",
            "epoch: 69, loss: 0.004195\n",
            "epoch: 70, loss: 0.000365\n",
            "epoch: 71, loss: 0.000000\n",
            "epoch: 72, loss: 0.000005\n",
            "epoch: 73, loss: 0.000182\n",
            "epoch: 74, loss: 0.000000\n",
            "epoch: 75, loss: 0.000000\n",
            "epoch: 76, loss: 0.020830\n",
            "epoch: 77, loss: 0.000000\n",
            "epoch: 78, loss: 0.000066\n",
            "epoch: 79, loss: 0.000000\n",
            "epoch: 80, loss: 0.000026\n",
            "epoch: 81, loss: 0.035116\n",
            "epoch: 82, loss: 0.000053\n",
            "epoch: 83, loss: 0.000000\n",
            "epoch: 84, loss: 0.000000\n",
            "epoch: 85, loss: 0.000009\n",
            "epoch: 86, loss: 0.000000\n",
            "epoch: 87, loss: 0.019015\n",
            "epoch: 88, loss: 0.000514\n",
            "epoch: 89, loss: 0.734825\n",
            "epoch: 90, loss: 0.000031\n",
            "epoch: 91, loss: 0.004761\n",
            "epoch: 92, loss: 0.000093\n",
            "epoch: 93, loss: 0.000009\n",
            "epoch: 94, loss: 0.000000\n",
            "epoch: 95, loss: 0.000570\n",
            "epoch: 96, loss: 0.000000\n",
            "epoch: 97, loss: 0.551538\n",
            "epoch: 98, loss: 0.006104\n",
            "epoch: 99, loss: 0.000000\n",
            "epoch: 100, loss: 0.000720\n",
            "Finished Training\n"
          ],
          "name": "stdout"
        }
      ]
    },
    {
      "cell_type": "code",
      "metadata": {
        "id": "LlhZ0zGYh9N3",
        "colab_type": "code",
        "colab": {
          "base_uri": "https://localhost:8080/",
          "height": 53
        },
        "outputId": "3ae54ec2-23de-4284-ab0f-25b8bc19b405"
      },
      "source": [
        "# NumPy 배열로 변환\n",
        "validation_X = np.array(validation_X, dtype='float32')\n",
        "validation_Y = np.array(validation_Y, dtype='int64')\n",
        "\n",
        "# 테스트 데이터를 텐서로 변환\n",
        "validation_X = torch.from_numpy(validation_X).float()\n",
        "validation_Y = torch.from_numpy(validation_Y).long()\n",
        "\n",
        "# 텐서 크기 확인\n",
        "print(validation_X.shape)\n",
        "print(validation_Y.shape)"
      ],
      "execution_count": 18,
      "outputs": [
        {
          "output_type": "stream",
          "text": [
            "torch.Size([1463, 3, 128, 128])\n",
            "torch.Size([1463])\n"
          ],
          "name": "stdout"
        }
      ]
    },
    {
      "cell_type": "code",
      "metadata": {
        "id": "2jlhEDDxsfut",
        "colab_type": "code",
        "colab": {
          "base_uri": "https://localhost:8080/",
          "height": 35
        },
        "outputId": "8c47e56f-5a31-428d-da26-6f337a4d04cd"
      },
      "source": [
        "# 계산 그래프 구성\n",
        "validation_x, validation_y = Variable(validation_X), Variable(validation_Y)\n",
        "# 출력이 0 혹은 1이 되게 함\n",
        "result = torch.max(model(validation_x).data, 1)[1]\n",
        "# 모형의 정확도 측정\n",
        "accuracy = sum(validation_y.data.numpy() == result.numpy()) / len(validation_y.data.numpy())\n",
        "\n",
        "# 모형의 정확도 출력\n",
        "accuracy"
      ],
      "execution_count": 19,
      "outputs": [
        {
          "output_type": "execute_result",
          "data": {
            "text/plain": [
              "0.861244019138756"
            ]
          },
          "metadata": {
            "tags": []
          },
          "execution_count": 19
        }
      ]
    },
    {
      "cell_type": "code",
      "metadata": {
        "id": "tDOBQ5iaD4UA",
        "colab_type": "code",
        "colab": {}
      },
      "source": [
        "test_filenames = pd.read_csv('dataset/test_vision.csv')"
      ],
      "execution_count": 0,
      "outputs": []
    },
    {
      "cell_type": "code",
      "metadata": {
        "id": "6GOVl_hYD7s_",
        "colab_type": "code",
        "colab": {
          "base_uri": "https://localhost:8080/",
          "height": 233
        },
        "outputId": "061a85f3-fd29-4d47-e167-b4752f106fb8"
      },
      "source": [
        "test_filenames['filename']"
      ],
      "execution_count": 21,
      "outputs": [
        {
          "output_type": "execute_result",
          "data": {
            "text/plain": [
              "0       face_2624.png\n",
              "1       face_3385.png\n",
              "2       face_5015.png\n",
              "3       face_6715.png\n",
              "4       face_6171.png\n",
              "            ...      \n",
              "1995     face_489.png\n",
              "1996    face_7601.png\n",
              "1997    face_2020.png\n",
              "1998    face_4219.png\n",
              "1999     face_269.png\n",
              "Name: filename, Length: 2000, dtype: object"
            ]
          },
          "metadata": {
            "tags": []
          },
          "execution_count": 21
        }
      ]
    },
    {
      "cell_type": "code",
      "metadata": {
        "id": "2Gq3zeazFKVY",
        "colab_type": "code",
        "colab": {}
      },
      "source": [
        "test_data = [] # 설명변수\n",
        "\n",
        "for test_filename in test_filenames['filename']:\n",
        "  img = Image.open('faces_images/' + test_filename, 'r')\n",
        "  r, g, b = img.split()\n",
        "  # 채널별로 분리해서 [0,1] 구간으로 정규화\n",
        "  r_resize_img = np.asarray(np.float32(r)/255.0)\n",
        "  g_resize_img = np.asarray(np.float32(g)/255.0)\n",
        "  b_resize_img = np.asarray(np.float32(b)/255.0)\n",
        "  rgb_resize_img = np.asarray([r_resize_img, g_resize_img, b_resize_img])\n",
        "  # 가공된 이미지를 리스트에 추가\n",
        "  test_data.append(rgb_resize_img)"
      ],
      "execution_count": 0,
      "outputs": []
    },
    {
      "cell_type": "code",
      "metadata": {
        "id": "MbVgjyH_3k6s",
        "colab_type": "code",
        "colab": {
          "base_uri": "https://localhost:8080/",
          "height": 35
        },
        "outputId": "79a909f2-0d6b-45a5-920f-35460b779212"
      },
      "source": [
        "# NumPy 배열로 변환\n",
        "test_data = np.array(test_data, dtype='float32')\n",
        "\n",
        "# 훈련 데이터 텐서 변환\n",
        "test_data = torch.from_numpy(test_data).float()\n",
        "\n",
        "# 텐서 크기를 화면에 출력\n",
        "print(test_data.shape)"
      ],
      "execution_count": 23,
      "outputs": [
        {
          "output_type": "stream",
          "text": [
            "torch.Size([2000, 3, 128, 128])\n"
          ],
          "name": "stdout"
        }
      ]
    },
    {
      "cell_type": "code",
      "metadata": {
        "colab_type": "code",
        "id": "gZ2otR_DamN3",
        "colab": {}
      },
      "source": [
        "# 미니배치로 분할하기\n",
        "test_loader = DataLoader(test_data, batch_size=1, shuffle=False, num_workers=1)"
      ],
      "execution_count": 0,
      "outputs": []
    },
    {
      "cell_type": "code",
      "metadata": {
        "id": "7Tq_Uj7LeR6U",
        "colab_type": "code",
        "colab": {}
      },
      "source": [
        "import csv\n",
        "from operator import itemgetter\n",
        "model.eval()\n",
        " \n",
        "data_list = []\n",
        "f = open('output.csv','w',newline='')\n",
        "csvWriter = csv.DictWriter(f,['prediction'])\n",
        "csvWriter.writerows([{'prediction':'prediction'}])\n",
        "\n",
        "for data in test_loader:\n",
        "    test_data = data\n",
        "\n",
        "    outputs = model(test_data)\n",
        "    \n",
        "    prediction_tensor = torch.max(outputs.data, 1)[1]\n",
        "\n",
        "    prediction = prediction_tensor.numpy()\n",
        "    \n",
        "    data_list.append({'prediction': prediction.data[0] + 1})\n",
        " \n",
        "csvWriter.writerows(data_list)\n",
        "f.close()"
      ],
      "execution_count": 0,
      "outputs": []
    },
    {
      "cell_type": "code",
      "metadata": {
        "id": "0jihV55ktBle",
        "colab_type": "code",
        "colab": {}
      },
      "source": [
        ""
      ],
      "execution_count": 0,
      "outputs": []
    }
  ]
}